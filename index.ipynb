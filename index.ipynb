{
 "cells": [
  {
   "cell_type": "code",
   "execution_count": null,
   "id": "697572a0",
   "metadata": {
    "scrolled": true
   },
   "outputs": [],
   "source": [
    "import dash\n",
    "import dash_bootstrap_components as dbc\n",
    "from dash import Input, Output, State, dcc, html\n",
    "\n",
    "# Connect to main app.py file\n",
    "from view.app import app\n",
    "\n",
    "# Connect the navbar to the index\n",
    "from view import sidebar\n",
    "\n",
    "# import callbacks\n",
    "from callbacks import sidebar_callbacks\n",
    "\n",
    "# import pages\n",
    "from view import page_data_loading, page_overview, page_categorical_feature, page_na_value, page_outlier_detection, page_transformation_table_data, page_transformation_time_series, page_supervised_classification, page_supervised_regression\n",
    "\n",
    "# the styles for the main content position it to the right of the sidebar and\n",
    "# add some padding.\n",
    "CONTENT_STYLE = {\n",
    "    \"margin-left\": \"32rem\",\n",
    "    \"margin-right\": \"2rem\",\n",
    "    \"padding\": \"2rem 1rem\",\n",
    "}\n",
    "\n",
    "\n",
    "sidebar_ = sidebar.sidebar()\n",
    "\n",
    "\n",
    "content = html.Div(\n",
    "    [\n",
    "        page_data_loading.layout,\n",
    "        page_overview.layout,\n",
    "        page_categorical_feature.layout,\n",
    "        page_na_value.layout,\n",
    "        page_outlier_detection.layout,\n",
    "        page_transformation_time_series.layout,\n",
    "        page_supervised_classification.layout,\n",
    "        page_supervised_regression.layout,\n",
    "\n",
    "    ],\n",
    "    id=\"page_content\", style=CONTENT_STYLE\n",
    ")\n",
    "\n",
    "app.layout = html.Div([dcc.Location(id=\"url\"), sidebar_, content])\n",
    "\n",
    "\n",
    "\n",
    "\n",
    "if __name__ == \"__main__\":\n",
    "    app.run_server()\n"
   ]
  },
  {
   "cell_type": "code",
   "execution_count": null,
   "id": "9afd5660",
   "metadata": {},
   "outputs": [],
   "source": []
  },
  {
   "cell_type": "code",
   "execution_count": null,
   "id": "e7a64b73",
   "metadata": {},
   "outputs": [],
   "source": []
  }
 ],
 "metadata": {
  "kernelspec": {
   "display_name": "dfenv",
   "language": "python",
   "name": "dfenv"
  },
  "language_info": {
   "codemirror_mode": {
    "name": "ipython",
    "version": 3
   },
   "file_extension": ".py",
   "mimetype": "text/x-python",
   "name": "python",
   "nbconvert_exporter": "python",
   "pygments_lexer": "ipython3",
   "version": "3.8.13"
  }
 },
 "nbformat": 4,
 "nbformat_minor": 5
}
